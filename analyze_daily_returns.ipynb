{
 "cells": [
  {
   "cell_type": "code",
   "execution_count": 1,
   "id": "03912cea",
   "metadata": {},
   "outputs": [
    {
     "name": "stdout",
     "output_type": "stream",
     "text": [
      "Requirement already satisfied: yfinance in /Users/irfanjamil/anaconda3/lib/python3.10/site-packages (0.2.36)\n",
      "Requirement already satisfied: multitasking>=0.0.7 in /Users/irfanjamil/anaconda3/lib/python3.10/site-packages (from yfinance) (0.0.11)\n",
      "Requirement already satisfied: peewee>=3.16.2 in /Users/irfanjamil/anaconda3/lib/python3.10/site-packages (from yfinance) (3.17.0)\n",
      "Requirement already satisfied: pytz>=2022.5 in /Users/irfanjamil/anaconda3/lib/python3.10/site-packages (from yfinance) (2022.7)\n",
      "Requirement already satisfied: html5lib>=1.1 in /Users/irfanjamil/anaconda3/lib/python3.10/site-packages (from yfinance) (1.1)\n",
      "Requirement already satisfied: lxml>=4.9.1 in /Users/irfanjamil/anaconda3/lib/python3.10/site-packages (from yfinance) (4.9.1)\n",
      "Requirement already satisfied: pandas>=1.3.0 in /Users/irfanjamil/anaconda3/lib/python3.10/site-packages (from yfinance) (1.5.3)\n",
      "Requirement already satisfied: frozendict>=2.3.4 in /Users/irfanjamil/anaconda3/lib/python3.10/site-packages (from yfinance) (2.4.0)\n",
      "Requirement already satisfied: appdirs>=1.4.4 in /Users/irfanjamil/anaconda3/lib/python3.10/site-packages (from yfinance) (1.4.4)\n",
      "Requirement already satisfied: beautifulsoup4>=4.11.1 in /Users/irfanjamil/anaconda3/lib/python3.10/site-packages (from yfinance) (4.11.1)\n",
      "Requirement already satisfied: numpy>=1.16.5 in /Users/irfanjamil/anaconda3/lib/python3.10/site-packages (from yfinance) (1.23.5)\n",
      "Requirement already satisfied: requests>=2.31 in /Users/irfanjamil/anaconda3/lib/python3.10/site-packages (from yfinance) (2.31.0)\n",
      "Requirement already satisfied: soupsieve>1.2 in /Users/irfanjamil/anaconda3/lib/python3.10/site-packages (from beautifulsoup4>=4.11.1->yfinance) (2.3.2.post1)\n",
      "Requirement already satisfied: six>=1.9 in /Users/irfanjamil/anaconda3/lib/python3.10/site-packages (from html5lib>=1.1->yfinance) (1.16.0)\n",
      "Requirement already satisfied: webencodings in /Users/irfanjamil/anaconda3/lib/python3.10/site-packages (from html5lib>=1.1->yfinance) (0.5.1)\n",
      "Requirement already satisfied: python-dateutil>=2.8.1 in /Users/irfanjamil/anaconda3/lib/python3.10/site-packages (from pandas>=1.3.0->yfinance) (2.8.2)\n",
      "Requirement already satisfied: charset-normalizer<4,>=2 in /Users/irfanjamil/anaconda3/lib/python3.10/site-packages (from requests>=2.31->yfinance) (2.0.4)\n",
      "Requirement already satisfied: certifi>=2017.4.17 in /Users/irfanjamil/anaconda3/lib/python3.10/site-packages (from requests>=2.31->yfinance) (2023.11.17)\n",
      "Requirement already satisfied: idna<4,>=2.5 in /Users/irfanjamil/anaconda3/lib/python3.10/site-packages (from requests>=2.31->yfinance) (3.4)\n",
      "Requirement already satisfied: urllib3<3,>=1.21.1 in /Users/irfanjamil/anaconda3/lib/python3.10/site-packages (from requests>=2.31->yfinance) (1.26.14)\n",
      "Note: you may need to restart the kernel to use updated packages.\n"
     ]
    }
   ],
   "source": [
    "pip install yfinance"
   ]
  },
  {
   "cell_type": "code",
   "execution_count": 3,
   "id": "95121d39",
   "metadata": {},
   "outputs": [],
   "source": [
    "import numpy as np\n",
    "import scipy\n",
    "import pandas as pd\n",
    "import yfinance as yf\n",
    "from datetime import datetime, date, timedelta\n",
    "import time\n",
    "from matplotlib import pyplot as plt"
   ]
  },
  {
   "cell_type": "code",
   "execution_count": 8,
   "id": "25cb98ac",
   "metadata": {},
   "outputs": [],
   "source": [
    "from helpers import *"
   ]
  },
  {
   "cell_type": "code",
   "execution_count": 9,
   "id": "df6e4cb5",
   "metadata": {},
   "outputs": [],
   "source": [
    "ndx, spx = get_ndx_spx_data()"
   ]
  },
  {
   "cell_type": "code",
   "execution_count": 10,
   "id": "e7bad716",
   "metadata": {},
   "outputs": [
    {
     "data": {
      "text/html": [
       "<div>\n",
       "<style scoped>\n",
       "    .dataframe tbody tr th:only-of-type {\n",
       "        vertical-align: middle;\n",
       "    }\n",
       "\n",
       "    .dataframe tbody tr th {\n",
       "        vertical-align: top;\n",
       "    }\n",
       "\n",
       "    .dataframe thead th {\n",
       "        text-align: right;\n",
       "    }\n",
       "</style>\n",
       "<table border=\"1\" class=\"dataframe\">\n",
       "  <thead>\n",
       "    <tr style=\"text-align: right;\">\n",
       "      <th></th>\n",
       "      <th>Date</th>\n",
       "      <th>Open</th>\n",
       "      <th>Close</th>\n",
       "      <th>return</th>\n",
       "      <th>log_return</th>\n",
       "    </tr>\n",
       "  </thead>\n",
       "  <tbody>\n",
       "    <tr>\n",
       "      <th>0</th>\n",
       "      <td>1985-10-02</td>\n",
       "      <td>112.139999</td>\n",
       "      <td>110.824997</td>\n",
       "      <td>-0.011726</td>\n",
       "      <td>-0.011796</td>\n",
       "    </tr>\n",
       "    <tr>\n",
       "      <th>1</th>\n",
       "      <td>1985-10-03</td>\n",
       "      <td>110.839996</td>\n",
       "      <td>110.870003</td>\n",
       "      <td>0.000406</td>\n",
       "      <td>0.000406</td>\n",
       "    </tr>\n",
       "    <tr>\n",
       "      <th>2</th>\n",
       "      <td>1985-10-04</td>\n",
       "      <td>110.870003</td>\n",
       "      <td>110.074997</td>\n",
       "      <td>-0.007171</td>\n",
       "      <td>-0.007196</td>\n",
       "    </tr>\n",
       "    <tr>\n",
       "      <th>3</th>\n",
       "      <td>1985-10-07</td>\n",
       "      <td>110.074997</td>\n",
       "      <td>108.199997</td>\n",
       "      <td>-0.017034</td>\n",
       "      <td>-0.017181</td>\n",
       "    </tr>\n",
       "    <tr>\n",
       "      <th>4</th>\n",
       "      <td>1985-10-08</td>\n",
       "      <td>108.199997</td>\n",
       "      <td>107.160004</td>\n",
       "      <td>-0.009612</td>\n",
       "      <td>-0.009658</td>\n",
       "    </tr>\n",
       "    <tr>\n",
       "      <th>...</th>\n",
       "      <td>...</td>\n",
       "      <td>...</td>\n",
       "      <td>...</td>\n",
       "      <td>...</td>\n",
       "      <td>...</td>\n",
       "    </tr>\n",
       "    <tr>\n",
       "      <th>9671</th>\n",
       "      <td>2024-02-16</td>\n",
       "      <td>17853.589844</td>\n",
       "      <td>17685.980469</td>\n",
       "      <td>-0.008951</td>\n",
       "      <td>-0.008991</td>\n",
       "    </tr>\n",
       "    <tr>\n",
       "      <th>9672</th>\n",
       "      <td>2024-02-20</td>\n",
       "      <td>17591.169922</td>\n",
       "      <td>17546.099609</td>\n",
       "      <td>-0.007909</td>\n",
       "      <td>-0.007941</td>\n",
       "    </tr>\n",
       "    <tr>\n",
       "      <th>9673</th>\n",
       "      <td>2024-02-21</td>\n",
       "      <td>17412.789062</td>\n",
       "      <td>17478.910156</td>\n",
       "      <td>-0.003829</td>\n",
       "      <td>-0.003837</td>\n",
       "    </tr>\n",
       "    <tr>\n",
       "      <th>9674</th>\n",
       "      <td>2024-02-22</td>\n",
       "      <td>17857.759766</td>\n",
       "      <td>18004.699219</td>\n",
       "      <td>0.030081</td>\n",
       "      <td>0.029638</td>\n",
       "    </tr>\n",
       "    <tr>\n",
       "      <th>9675</th>\n",
       "      <td>2024-02-23</td>\n",
       "      <td>18052.599609</td>\n",
       "      <td>17990.544922</td>\n",
       "      <td>-0.000786</td>\n",
       "      <td>-0.000786</td>\n",
       "    </tr>\n",
       "  </tbody>\n",
       "</table>\n",
       "<p>9676 rows × 5 columns</p>\n",
       "</div>"
      ],
      "text/plain": [
       "            Date          Open         Close    return  log_return\n",
       "0     1985-10-02    112.139999    110.824997 -0.011726   -0.011796\n",
       "1     1985-10-03    110.839996    110.870003  0.000406    0.000406\n",
       "2     1985-10-04    110.870003    110.074997 -0.007171   -0.007196\n",
       "3     1985-10-07    110.074997    108.199997 -0.017034   -0.017181\n",
       "4     1985-10-08    108.199997    107.160004 -0.009612   -0.009658\n",
       "...          ...           ...           ...       ...         ...\n",
       "9671  2024-02-16  17853.589844  17685.980469 -0.008951   -0.008991\n",
       "9672  2024-02-20  17591.169922  17546.099609 -0.007909   -0.007941\n",
       "9673  2024-02-21  17412.789062  17478.910156 -0.003829   -0.003837\n",
       "9674  2024-02-22  17857.759766  18004.699219  0.030081    0.029638\n",
       "9675  2024-02-23  18052.599609  17990.544922 -0.000786   -0.000786\n",
       "\n",
       "[9676 rows x 5 columns]"
      ]
     },
     "execution_count": 10,
     "metadata": {},
     "output_type": "execute_result"
    }
   ],
   "source": [
    "ndx"
   ]
  },
  {
   "cell_type": "code",
   "execution_count": 11,
   "id": "00e501f7",
   "metadata": {},
   "outputs": [
    {
     "data": {
      "text/html": [
       "<div>\n",
       "<style scoped>\n",
       "    .dataframe tbody tr th:only-of-type {\n",
       "        vertical-align: middle;\n",
       "    }\n",
       "\n",
       "    .dataframe tbody tr th {\n",
       "        vertical-align: top;\n",
       "    }\n",
       "\n",
       "    .dataframe thead th {\n",
       "        text-align: right;\n",
       "    }\n",
       "</style>\n",
       "<table border=\"1\" class=\"dataframe\">\n",
       "  <thead>\n",
       "    <tr style=\"text-align: right;\">\n",
       "      <th></th>\n",
       "      <th>Date</th>\n",
       "      <th>Open</th>\n",
       "      <th>Close</th>\n",
       "      <th>return</th>\n",
       "      <th>log_return</th>\n",
       "    </tr>\n",
       "  </thead>\n",
       "  <tbody>\n",
       "    <tr>\n",
       "      <th>6117</th>\n",
       "      <td>2010-01-04</td>\n",
       "      <td>1882.689941</td>\n",
       "      <td>1886.699951</td>\n",
       "      <td>0.014186</td>\n",
       "      <td>0.014086</td>\n",
       "    </tr>\n",
       "    <tr>\n",
       "      <th>6118</th>\n",
       "      <td>2010-01-05</td>\n",
       "      <td>1887.280029</td>\n",
       "      <td>1888.430054</td>\n",
       "      <td>0.000917</td>\n",
       "      <td>0.000917</td>\n",
       "    </tr>\n",
       "    <tr>\n",
       "      <th>6119</th>\n",
       "      <td>2010-01-06</td>\n",
       "      <td>1887.910034</td>\n",
       "      <td>1878.420044</td>\n",
       "      <td>-0.005301</td>\n",
       "      <td>-0.005315</td>\n",
       "    </tr>\n",
       "    <tr>\n",
       "      <th>6120</th>\n",
       "      <td>2010-01-07</td>\n",
       "      <td>1878.160034</td>\n",
       "      <td>1876.719971</td>\n",
       "      <td>-0.000905</td>\n",
       "      <td>-0.000905</td>\n",
       "    </tr>\n",
       "    <tr>\n",
       "      <th>6121</th>\n",
       "      <td>2010-01-08</td>\n",
       "      <td>1870.900024</td>\n",
       "      <td>1892.589966</td>\n",
       "      <td>0.008456</td>\n",
       "      <td>0.008421</td>\n",
       "    </tr>\n",
       "    <tr>\n",
       "      <th>...</th>\n",
       "      <td>...</td>\n",
       "      <td>...</td>\n",
       "      <td>...</td>\n",
       "      <td>...</td>\n",
       "      <td>...</td>\n",
       "    </tr>\n",
       "    <tr>\n",
       "      <th>9671</th>\n",
       "      <td>2024-02-16</td>\n",
       "      <td>17853.589844</td>\n",
       "      <td>17685.980469</td>\n",
       "      <td>-0.008951</td>\n",
       "      <td>-0.008991</td>\n",
       "    </tr>\n",
       "    <tr>\n",
       "      <th>9672</th>\n",
       "      <td>2024-02-20</td>\n",
       "      <td>17591.169922</td>\n",
       "      <td>17546.099609</td>\n",
       "      <td>-0.007909</td>\n",
       "      <td>-0.007941</td>\n",
       "    </tr>\n",
       "    <tr>\n",
       "      <th>9673</th>\n",
       "      <td>2024-02-21</td>\n",
       "      <td>17412.789062</td>\n",
       "      <td>17478.910156</td>\n",
       "      <td>-0.003829</td>\n",
       "      <td>-0.003837</td>\n",
       "    </tr>\n",
       "    <tr>\n",
       "      <th>9674</th>\n",
       "      <td>2024-02-22</td>\n",
       "      <td>17857.759766</td>\n",
       "      <td>18004.699219</td>\n",
       "      <td>0.030081</td>\n",
       "      <td>0.029638</td>\n",
       "    </tr>\n",
       "    <tr>\n",
       "      <th>9675</th>\n",
       "      <td>2024-02-23</td>\n",
       "      <td>18052.599609</td>\n",
       "      <td>17990.544922</td>\n",
       "      <td>-0.000786</td>\n",
       "      <td>-0.000786</td>\n",
       "    </tr>\n",
       "  </tbody>\n",
       "</table>\n",
       "<p>3559 rows × 5 columns</p>\n",
       "</div>"
      ],
      "text/plain": [
       "            Date          Open         Close    return  log_return\n",
       "6117  2010-01-04   1882.689941   1886.699951  0.014186    0.014086\n",
       "6118  2010-01-05   1887.280029   1888.430054  0.000917    0.000917\n",
       "6119  2010-01-06   1887.910034   1878.420044 -0.005301   -0.005315\n",
       "6120  2010-01-07   1878.160034   1876.719971 -0.000905   -0.000905\n",
       "6121  2010-01-08   1870.900024   1892.589966  0.008456    0.008421\n",
       "...          ...           ...           ...       ...         ...\n",
       "9671  2024-02-16  17853.589844  17685.980469 -0.008951   -0.008991\n",
       "9672  2024-02-20  17591.169922  17546.099609 -0.007909   -0.007941\n",
       "9673  2024-02-21  17412.789062  17478.910156 -0.003829   -0.003837\n",
       "9674  2024-02-22  17857.759766  18004.699219  0.030081    0.029638\n",
       "9675  2024-02-23  18052.599609  17990.544922 -0.000786   -0.000786\n",
       "\n",
       "[3559 rows x 5 columns]"
      ]
     },
     "execution_count": 11,
     "metadata": {},
     "output_type": "execute_result"
    }
   ],
   "source": [
    "ndx[ndx['Date']>date(2010, 1, 1)]"
   ]
  },
  {
   "cell_type": "code",
   "execution_count": 12,
   "id": "eb4e2592",
   "metadata": {},
   "outputs": [],
   "source": [
    "ndx_2010_and_after = ndx[ndx['Date']>date(2010, 1, 1)].reset_index(drop=True)\n",
    "spx_2010_and_after = spx[spx['Date']>date(2010, 1, 1)].reset_index(drop=True)"
   ]
  },
  {
   "cell_type": "code",
   "execution_count": 13,
   "id": "8cc03d1d",
   "metadata": {},
   "outputs": [
    {
     "data": {
      "text/plain": [
       "-0.32908672153681917"
      ]
     },
     "execution_count": 13,
     "metadata": {},
     "output_type": "execute_result"
    }
   ],
   "source": [
    "scipy.stats.skew(ndx_2010_and_after['return'])"
   ]
  },
  {
   "cell_type": "code",
   "execution_count": 14,
   "id": "10c0a613",
   "metadata": {},
   "outputs": [
    {
     "data": {
      "text/plain": [
       "-0.49865417706876003"
      ]
     },
     "execution_count": 14,
     "metadata": {},
     "output_type": "execute_result"
    }
   ],
   "source": [
    "scipy.stats.skew(ndx_2010_and_after['log_return'])"
   ]
  },
  {
   "cell_type": "code",
   "execution_count": 15,
   "id": "b996c63d",
   "metadata": {},
   "outputs": [
    {
     "data": {
      "text/plain": [
       "6.548494963360925"
      ]
     },
     "execution_count": 15,
     "metadata": {},
     "output_type": "execute_result"
    }
   ],
   "source": [
    "scipy.stats.kurtosis(ndx_2010_and_after['return'])"
   ]
  },
  {
   "cell_type": "code",
   "execution_count": 16,
   "id": "80ea8216",
   "metadata": {},
   "outputs": [
    {
     "data": {
      "text/plain": [
       "7.035456917159452"
      ]
     },
     "execution_count": 16,
     "metadata": {},
     "output_type": "execute_result"
    }
   ],
   "source": [
    "scipy.stats.kurtosis(ndx_2010_and_after['log_return'])"
   ]
  },
  {
   "cell_type": "markdown",
   "id": "f97517d1",
   "metadata": {},
   "source": [
    "For NDX100 data from 2010 onwards, for both daily returns and daily log returns, the tails are much 'fatter' than that of a normal distribution as indicated by the high kurtosis. In addition, for both returns and daily log returns, there is negative skewness indicating greater likelihood of large loss than large gain"
   ]
  },
  {
   "cell_type": "code",
   "execution_count": 17,
   "id": "f7c28f11",
   "metadata": {},
   "outputs": [
    {
     "data": {
      "text/plain": [
       "-0.484820825932147"
      ]
     },
     "execution_count": 17,
     "metadata": {},
     "output_type": "execute_result"
    }
   ],
   "source": [
    "scipy.stats.skew(spx_2010_and_after['return'])"
   ]
  },
  {
   "cell_type": "code",
   "execution_count": 18,
   "id": "bc7d7411",
   "metadata": {},
   "outputs": [
    {
     "data": {
      "text/plain": [
       "-0.7222514573042691"
      ]
     },
     "execution_count": 18,
     "metadata": {},
     "output_type": "execute_result"
    }
   ],
   "source": [
    "scipy.stats.skew(spx_2010_and_after['log_return'])"
   ]
  },
  {
   "cell_type": "code",
   "execution_count": 19,
   "id": "dbf53f64",
   "metadata": {},
   "outputs": [
    {
     "data": {
      "text/plain": [
       "12.220089084916713"
      ]
     },
     "execution_count": 19,
     "metadata": {},
     "output_type": "execute_result"
    }
   ],
   "source": [
    "scipy.stats.kurtosis(spx_2010_and_after['return'])"
   ]
  },
  {
   "cell_type": "code",
   "execution_count": 20,
   "id": "48db7e99",
   "metadata": {},
   "outputs": [
    {
     "data": {
      "text/plain": [
       "13.172672085706445"
      ]
     },
     "execution_count": 20,
     "metadata": {},
     "output_type": "execute_result"
    }
   ],
   "source": [
    "scipy.stats.kurtosis(spx_2010_and_after['log_return'])"
   ]
  },
  {
   "cell_type": "markdown",
   "id": "ef7b53cc",
   "metadata": {},
   "source": [
    "The results for SPX follow the pattern of NDX100 except that the tails are even fatter and there is more negative skewness"
   ]
  },
  {
   "cell_type": "code",
   "execution_count": 21,
   "id": "f4be11f4",
   "metadata": {},
   "outputs": [
    {
     "data": {
      "text/plain": [
       "(array([ 0.12619464,  0.        ,  0.        ,  0.        ,  0.        ,\n",
       "         0.        ,  0.        ,  0.        ,  0.        ,  0.        ,\n",
       "         0.        ,  0.        ,  0.        ,  0.12619464,  0.        ,\n",
       "         0.        ,  0.        ,  0.        ,  0.        ,  0.        ,\n",
       "         0.        ,  0.        ,  0.        ,  0.        ,  0.12619464,\n",
       "         0.        ,  0.        ,  0.12619464,  0.        ,  0.12619464,\n",
       "         0.        ,  0.12619464,  0.63097321,  0.25238928,  0.50477857,\n",
       "         0.63097321,  0.88336249,  1.38814106,  0.63097321,  1.26194642,\n",
       "         2.39769819,  1.64053034,  2.14530891,  4.03822854,  3.78583925,\n",
       "         5.17398031,  6.18353745,  8.83362493,  9.9693767 , 13.25043739,\n",
       "        14.38618917, 20.31733733, 25.86990157, 37.35361398, 49.34210495,\n",
       "        48.20635317, 42.14901037, 33.56777472, 28.51998905, 18.55061235,\n",
       "        16.27910879, 14.51238381,  7.57167851,  6.56212137,  5.55256424,\n",
       "         3.78583925,  2.52389284,  2.39769819,  1.89291963,  0.75716785,\n",
       "         1.26194642,  0.63097321,  0.25238928,  0.37858393,  0.37858393,\n",
       "         0.25238928,  0.25238928,  0.25238928,  0.12619464,  0.        ,\n",
       "         0.12619464,  0.        ,  0.12619464,  0.12619464,  0.        ,\n",
       "         0.        ,  0.        ,  0.12619464,  0.12619464,  0.12619464,\n",
       "         0.        ,  0.        ,  0.        ,  0.        ,  0.        ,\n",
       "         0.        ,  0.        ,  0.        ,  0.        ,  0.12619464]),\n",
       " array([-0.12193223, -0.11970569, -0.11747915, -0.1152526 , -0.11302606,\n",
       "        -0.11079952, -0.10857298, -0.10634643, -0.10411989, -0.10189335,\n",
       "        -0.0996668 , -0.09744026, -0.09521372, -0.09298717, -0.09076063,\n",
       "        -0.08853409, -0.08630754, -0.084081  , -0.08185446, -0.07962792,\n",
       "        -0.07740137, -0.07517483, -0.07294829, -0.07072174, -0.0684952 ,\n",
       "        -0.06626866, -0.06404211, -0.06181557, -0.05958903, -0.05736249,\n",
       "        -0.05513594, -0.0529094 , -0.05068286, -0.04845631, -0.04622977,\n",
       "        -0.04400323, -0.04177668, -0.03955014, -0.0373236 , -0.03509705,\n",
       "        -0.03287051, -0.03064397, -0.02841743, -0.02619088, -0.02396434,\n",
       "        -0.0217378 , -0.01951125, -0.01728471, -0.01505817, -0.01283162,\n",
       "        -0.01060508, -0.00837854, -0.006152  , -0.00392545, -0.00169891,\n",
       "         0.00052763,  0.00275418,  0.00498072,  0.00720726,  0.00943381,\n",
       "         0.01166035,  0.01388689,  0.01611344,  0.01833998,  0.02056652,\n",
       "         0.02279306,  0.02501961,  0.02724615,  0.02947269,  0.03169924,\n",
       "         0.03392578,  0.03615232,  0.03837887,  0.04060541,  0.04283195,\n",
       "         0.0450585 ,  0.04728504,  0.04951158,  0.05173812,  0.05396467,\n",
       "         0.05619121,  0.05841775,  0.0606443 ,  0.06287084,  0.06509738,\n",
       "         0.06732393,  0.06955047,  0.07177701,  0.07400355,  0.0762301 ,\n",
       "         0.07845664,  0.08068318,  0.08290973,  0.08513627,  0.08736281,\n",
       "         0.08958936,  0.0918159 ,  0.09404244,  0.09626899,  0.09849553,\n",
       "         0.10072207]),\n",
       " <BarContainer object of 100 artists>)"
      ]
     },
     "execution_count": 21,
     "metadata": {},
     "output_type": "execute_result"
    },
    {
     "data": {
      "image/png": "[encoded data removed]",
      "text/plain": [
       "<Figure size 640x480 with 1 Axes>"
      ]
     },
     "metadata": {},
     "output_type": "display_data"
    }
   ],
   "source": [
    "plt.hist(ndx_2010_and_after['return'], bins=100, density=True)"
   ]
  },
  {
   "cell_type": "code",
   "execution_count": 22,
   "id": "41394772",
   "metadata": {},
   "outputs": [
    {
     "data": {
      "text/plain": [
       "(array([ 0.12432762,  0.        ,  0.        ,  0.        ,  0.        ,\n",
       "         0.        ,  0.        ,  0.        ,  0.        ,  0.        ,\n",
       "         0.        ,  0.        ,  0.        ,  0.        ,  0.12432762,\n",
       "         0.        ,  0.        ,  0.        ,  0.        ,  0.        ,\n",
       "         0.        ,  0.        ,  0.        ,  0.        ,  0.        ,\n",
       "         0.        ,  0.12432762,  0.        ,  0.        ,  0.12432762,\n",
       "         0.        ,  0.        ,  0.12432762,  0.12432762,  0.49731047,\n",
       "         0.24865523,  0.37298285,  0.37298285,  0.49731047,  1.49193141,\n",
       "         0.87029332,  0.7459657 ,  1.24327617,  2.23789711,  1.86491426,\n",
       "         2.8595352 ,  2.98386282,  4.22713899,  5.22175993,  6.4650361 ,\n",
       "         9.82188177,  9.07591607, 13.80036553, 14.67065885, 21.13569495,\n",
       "        29.21699008, 39.03887185, 49.60671932, 49.10940885, 36.80097474,\n",
       "        35.30904333, 24.49254062, 18.52481499, 15.16796932, 11.4381408 ,\n",
       "         7.45965704,  7.21100181,  4.22713899,  3.10819043,  2.23789711,\n",
       "         1.74058664,  1.61625903,  1.11894856,  0.87029332,  0.12432762,\n",
       "         0.49731047,  0.37298285,  0.24865523,  0.24865523,  0.24865523,\n",
       "         0.12432762,  0.        ,  0.12432762,  0.12432762,  0.        ,\n",
       "         0.12432762,  0.        ,  0.        ,  0.12432762,  0.12432762,\n",
       "         0.12432762,  0.        ,  0.        ,  0.        ,  0.        ,\n",
       "         0.        ,  0.        ,  0.        ,  0.        ,  0.12432762]),\n",
       " array([-0.13003151, -0.12777153, -0.12551155, -0.12325157, -0.12099159,\n",
       "        -0.11873161, -0.11647163, -0.11421165, -0.11195167, -0.10969169,\n",
       "        -0.10743172, -0.10517174, -0.10291176, -0.10065178, -0.0983918 ,\n",
       "        -0.09613182, -0.09387184, -0.09161186, -0.08935188, -0.08709191,\n",
       "        -0.08483193, -0.08257195, -0.08031197, -0.07805199, -0.07579201,\n",
       "        -0.07353203, -0.07127205, -0.06901207, -0.06675209, -0.06449212,\n",
       "        -0.06223214, -0.05997216, -0.05771218, -0.0554522 , -0.05319222,\n",
       "        -0.05093224, -0.04867226, -0.04641228, -0.0441523 , -0.04189233,\n",
       "        -0.03963235, -0.03737237, -0.03511239, -0.03285241, -0.03059243,\n",
       "        -0.02833245, -0.02607247, -0.02381249, -0.02155251, -0.01929254,\n",
       "        -0.01703256, -0.01477258, -0.0125126 , -0.01025262, -0.00799264,\n",
       "        -0.00573266, -0.00347268, -0.0012127 ,  0.00104728,  0.00330725,\n",
       "         0.00556723,  0.00782721,  0.01008719,  0.01234717,  0.01460715,\n",
       "         0.01686713,  0.01912711,  0.02138709,  0.02364707,  0.02590704,\n",
       "         0.02816702,  0.030427  ,  0.03268698,  0.03494696,  0.03720694,\n",
       "         0.03946692,  0.0417269 ,  0.04398688,  0.04624686,  0.04850683,\n",
       "         0.05076681,  0.05302679,  0.05528677,  0.05754675,  0.05980673,\n",
       "         0.06206671,  0.06432669,  0.06658667,  0.06884665,  0.07110662,\n",
       "         0.0733666 ,  0.07562658,  0.07788656,  0.08014654,  0.08240652,\n",
       "         0.0846665 ,  0.08692648,  0.08918646,  0.09144643,  0.09370641,\n",
       "         0.09596639]),\n",
       " <BarContainer object of 100 artists>)"
      ]
     },
     "execution_count": 22,
     "metadata": {},
     "output_type": "execute_result"
    },
    {
     "data": {
      "image/png": "[encoded data removed]",
      "text/plain": [
       "<Figure size 640x480 with 1 Axes>"
      ]
     },
     "metadata": {},
     "output_type": "display_data"
    }
   ],
   "source": [
    "plt.hist(ndx_2010_and_after['log_return'], bins=100, density=True)"
   ]
  },
  {
   "cell_type": "code",
   "execution_count": 23,
   "id": "c5b5e0e9",
   "metadata": {},
   "outputs": [
    {
     "data": {
      "text/plain": [
       "(array([ 0.13150187,  0.        ,  0.        ,  0.        ,  0.        ,\n",
       "         0.        ,  0.        ,  0.        ,  0.        ,  0.        ,\n",
       "         0.        ,  0.13150187,  0.        ,  0.        ,  0.        ,\n",
       "         0.        ,  0.        ,  0.        ,  0.        ,  0.        ,\n",
       "         0.13150187,  0.        ,  0.        ,  0.        ,  0.13150187,\n",
       "         0.        ,  0.        ,  0.        ,  0.13150187,  0.        ,\n",
       "         0.        ,  0.13150187,  0.        ,  0.26300374,  0.        ,\n",
       "         0.78901123,  0.13150187,  0.52600749,  0.26300374,  0.78901123,\n",
       "         1.05201497,  1.05201497,  1.8410262 ,  0.9205131 ,  3.02454304,\n",
       "         1.8410262 ,  3.6820524 ,  4.6025655 ,  7.3641048 ,  8.15311603,\n",
       "        11.57216468, 11.9666703 , 21.56630691, 25.64286492, 38.66155019,\n",
       "        60.75386458, 65.88243756, 48.39268867, 38.00404083, 29.71942293,\n",
       "        19.46227696, 17.88425451, 13.41319088,  8.81062538,  4.99707111,\n",
       "         3.15604491,  2.7615393 ,  2.23553181,  1.31501871,  0.78901123,\n",
       "         1.05201497,  0.26300374,  0.65750936,  0.        ,  0.13150187,\n",
       "         0.13150187,  0.26300374,  0.26300374,  0.13150187,  0.26300374,\n",
       "         0.        ,  0.        ,  0.13150187,  0.        ,  0.13150187,\n",
       "         0.13150187,  0.        ,  0.        ,  0.        ,  0.13150187,\n",
       "         0.        ,  0.        ,  0.        ,  0.        ,  0.        ,\n",
       "         0.        ,  0.        ,  0.        ,  0.        ,  0.26300374]),\n",
       " array([-0.11984055, -0.11770387, -0.11556719, -0.1134305 , -0.11129382,\n",
       "        -0.10915714, -0.10702045, -0.10488377, -0.10274709, -0.10061041,\n",
       "        -0.09847372, -0.09633704, -0.09420036, -0.09206367, -0.08992699,\n",
       "        -0.08779031, -0.08565363, -0.08351694, -0.08138026, -0.07924358,\n",
       "        -0.07710689, -0.07497021, -0.07283353, -0.07069685, -0.06856016,\n",
       "        -0.06642348, -0.0642868 , -0.06215011, -0.06001343, -0.05787675,\n",
       "        -0.05574006, -0.05360338, -0.0514667 , -0.04933002, -0.04719333,\n",
       "        -0.04505665, -0.04291997, -0.04078328, -0.0386466 , -0.03650992,\n",
       "        -0.03437324, -0.03223655, -0.03009987, -0.02796319, -0.0258265 ,\n",
       "        -0.02368982, -0.02155314, -0.01941646, -0.01727977, -0.01514309,\n",
       "        -0.01300641, -0.01086972, -0.00873304, -0.00659636, -0.00445967,\n",
       "        -0.00232299, -0.00018631,  0.00195037,  0.00408706,  0.00622374,\n",
       "         0.00836042,  0.01049711,  0.01263379,  0.01477047,  0.01690715,\n",
       "         0.01904384,  0.02118052,  0.0233172 ,  0.02545389,  0.02759057,\n",
       "         0.02972725,  0.03186394,  0.03400062,  0.0361373 ,  0.03827398,\n",
       "         0.04041067,  0.04254735,  0.04468403,  0.04682072,  0.0489574 ,\n",
       "         0.05109408,  0.05323076,  0.05536745,  0.05750413,  0.05964081,\n",
       "         0.0617775 ,  0.06391418,  0.06605086,  0.06818754,  0.07032423,\n",
       "         0.07246091,  0.07459759,  0.07673428,  0.07887096,  0.08100764,\n",
       "         0.08314433,  0.08528101,  0.08741769,  0.08955437,  0.09169106,\n",
       "         0.09382774]),\n",
       " <BarContainer object of 100 artists>)"
      ]
     },
     "execution_count": 23,
     "metadata": {},
     "output_type": "execute_result"
    },
    {
     "data": {
      "image/png": "[encoded data removed]",
      "text/plain": [
       "<Figure size 640x480 with 1 Axes>"
      ]
     },
     "metadata": {},
     "output_type": "display_data"
    }
   ],
   "source": [
    "plt.hist(spx_2010_and_after['return'], bins=100, density=True)"
   ]
  },
  {
   "cell_type": "code",
   "execution_count": 24,
   "id": "9bf6bccf",
   "metadata": {},
   "outputs": [
    {
     "data": {
      "text/plain": [
       "(array([ 0.12928302,  0.        ,  0.        ,  0.        ,  0.        ,\n",
       "         0.        ,  0.        ,  0.        ,  0.        ,  0.        ,\n",
       "         0.        ,  0.        ,  0.12928302,  0.        ,  0.        ,\n",
       "         0.        ,  0.        ,  0.        ,  0.        ,  0.        ,\n",
       "         0.        ,  0.        ,  0.12928302,  0.        ,  0.        ,\n",
       "         0.        ,  0.        ,  0.12928302,  0.        ,  0.        ,\n",
       "         0.12928302,  0.        ,  0.        ,  0.        ,  0.12928302,\n",
       "         0.12928302,  0.12928302,  0.51713207,  0.25856604,  0.25856604,\n",
       "         0.38784905,  0.51713207,  0.90498112,  1.03426414,  1.03426414,\n",
       "         1.80996225,  1.03426414,  2.84422639,  2.45637734,  3.87849054,\n",
       "         4.78347166,  7.62769805,  8.6619622 , 12.02332066, 14.73826404,\n",
       "        22.75381114, 28.31298091, 45.37833927, 65.67577307, 57.66022596,\n",
       "        47.0590185 , 33.22573559, 26.11516961, 19.90958475, 14.73826404,\n",
       "        10.47192445,  6.72271693,  4.52490562,  2.97350941,  2.45637734,\n",
       "         1.55139621,  0.64641509,  1.16354716,  0.38784905,  0.64641509,\n",
       "         0.        ,  0.12928302,  0.12928302,  0.25856604,  0.25856604,\n",
       "         0.25856604,  0.12928302,  0.        ,  0.12928302,  0.        ,\n",
       "         0.12928302,  0.12928302,  0.        ,  0.        ,  0.        ,\n",
       "         0.12928302,  0.        ,  0.        ,  0.        ,  0.        ,\n",
       "         0.        ,  0.        ,  0.        ,  0.        ,  0.25856604]),\n",
       " array([-0.1276522 , -0.12547884, -0.12330549, -0.12113213, -0.11895878,\n",
       "        -0.11678543, -0.11461207, -0.11243872, -0.11026536, -0.10809201,\n",
       "        -0.10591865, -0.1037453 , -0.10157195, -0.09939859, -0.09722524,\n",
       "        -0.09505188, -0.09287853, -0.09070517, -0.08853182, -0.08635847,\n",
       "        -0.08418511, -0.08201176, -0.0798384 , -0.07766505, -0.07549169,\n",
       "        -0.07331834, -0.07114499, -0.06897163, -0.06679828, -0.06462492,\n",
       "        -0.06245157, -0.06027821, -0.05810486, -0.05593151, -0.05375815,\n",
       "        -0.0515848 , -0.04941144, -0.04723809, -0.04506473, -0.04289138,\n",
       "        -0.04071803, -0.03854467, -0.03637132, -0.03419796, -0.03202461,\n",
       "        -0.02985125, -0.0276779 , -0.02550455, -0.02333119, -0.02115784,\n",
       "        -0.01898448, -0.01681113, -0.01463777, -0.01246442, -0.01029107,\n",
       "        -0.00811771, -0.00594436, -0.003771  , -0.00159765,  0.00057571,\n",
       "         0.00274906,  0.00492241,  0.00709577,  0.00926912,  0.01144248,\n",
       "         0.01361583,  0.01578919,  0.01796254,  0.02013589,  0.02230925,\n",
       "         0.0244826 ,  0.02665596,  0.02882931,  0.03100267,  0.03317602,\n",
       "         0.03534938,  0.03752273,  0.03969608,  0.04186944,  0.04404279,\n",
       "         0.04621615,  0.0483895 ,  0.05056286,  0.05273621,  0.05490956,\n",
       "         0.05708292,  0.05925627,  0.06142963,  0.06360298,  0.06577634,\n",
       "         0.06794969,  0.07012304,  0.0722964 ,  0.07446975,  0.07664311,\n",
       "         0.07881646,  0.08098982,  0.08316317,  0.08533652,  0.08750988,\n",
       "         0.08968323]),\n",
       " <BarContainer object of 100 artists>)"
      ]
     },
     "execution_count": 24,
     "metadata": {},
     "output_type": "execute_result"
    },
    {
     "data": {
      "image/png": "[encoded data removed]",
      "text/plain": [
       "<Figure size 640x480 with 1 Axes>"
      ]
     },
     "metadata": {},
     "output_type": "display_data"
    }
   ],
   "source": [
    "plt.hist(spx_2010_and_after['log_return'], bins=100, density=True)"
   ]
  },
  {
   "cell_type": "code",
   "execution_count": 39,
   "id": "127b70ec",
   "metadata": {},
   "outputs": [],
   "source": [
    "def plot_hist_and_overlay_normal(data, mean, sd):\n",
    "    '''\n",
    "    data: list of data points to create a histogram from\n",
    "    '''\n",
    "    data.sort()\n",
    "    d_min = data[0]\n",
    "    d_max = data[len(data)-1]\n",
    "    \n",
    "    x = np.linspace(d_min, d_max + .01, 10000)\n",
    "    y = scipy.stats.norm.pdf(x, loc = mean, scale = sd)\n",
    "    \n",
    "    fig, ax1 = plt.subplots()\n",
    "    #ax1.set_ylim(bottom=0)\n",
    "    ax1.hist(data, bins=100, color='blue', alpha=0.7, density=True)\n",
    "    \n",
    "    ax2 = ax1.twinx()\n",
    "    #ax2.set_ylim(bottom=0)\n",
    "    ax2.plot(x, y, color='red', linestyle='-', linewidth=2, label='Normal Dist')\n",
    "    \n",
    "       \n",
    "    ax1.set_xlabel('Data')\n",
    "    ax1.set_ylabel('Histogram Density')\n",
    "    ax2.set_ylabel('Normal PDF')\n",
    "\n",
    "    ax2.legend(loc='upper right')\n",
    "\n",
    "    # Show plot\n",
    "    plt.show()"
   ]
  },
  {
   "cell_type": "code",
   "execution_count": 56,
   "id": "ef6317c0",
   "metadata": {},
   "outputs": [],
   "source": [
    "import bisect\n",
    "\n",
    "def examine_tail_events(data, mean, sd):\n",
    "    '''\n",
    "    data: list of data points to create a histogram from\n",
    "    '''\n",
    "    data.sort()\n",
    "    data_len = len(data)\n",
    "    \n",
    "    pos_3sigma = mean + 5 * sd\n",
    "    neg_3sigma = mean - 5 * sd\n",
    "    \n",
    "    greq_pos_3sigma = scipy.stats.norm.sf(pos_3sigma, loc = mean, scale = sd)\n",
    "    leq_neg_3sigma = scipy.stats.norm.cdf(neg_3sigma, loc = mean, scale = sd)\n",
    "    \n",
    "    exp_leq_neg_3sigma = leq_neg_3sigma * data_len\n",
    "    exp_greq_pos_3sigma = greq_pos_3sigma * data_len\n",
    "    \n",
    "    act_leq_neg_3sigma = bisect.bisect_left(data, neg_3sigma) + 1\n",
    "    act_greq_pos_3sigma = data_len - bisect.bisect_left(data, pos_3sigma) + 1\n",
    "    \n",
    "    print('excess left tail events: ' + str(act_leq_neg_3sigma - exp_leq_neg_3sigma))\n",
    "    print('excess right tail events: ' + str(act_greq_pos_3sigma - exp_greq_pos_3sigma))\n",
    "    "
   ]
  },
  {
   "cell_type": "code",
   "execution_count": 41,
   "id": "bd5efcf5",
   "metadata": {},
   "outputs": [
    {
     "data": {
      "image/png": "[encoded data removed]",
      "text/plain": [
       "<Figure size 640x480 with 2 Axes>"
      ]
     },
     "metadata": {},
     "output_type": "display_data"
    }
   ],
   "source": [
    "desc = ndx_2010_and_after['return'].describe()\n",
    "plot_hist_and_overlay_normal(ndx_2010_and_after['return'].to_list(), desc['mean'], desc['std'])"
   ]
  },
  {
   "cell_type": "markdown",
   "id": "daae44c7",
   "metadata": {},
   "source": [
    "Below we examine plus/minus 3 sigma events counts vs expected"
   ]
  },
  {
   "cell_type": "code",
   "execution_count": 47,
   "id": "deee8ed4",
   "metadata": {},
   "outputs": [
    {
     "name": "stdout",
     "output_type": "stream",
     "text": [
      "excess left tail events: 33.195712905428486\n",
      "excess right tail events: 17.19571290542849\n"
     ]
    }
   ],
   "source": [
    "examine_tail_events(ndx_2010_and_after['return'].to_list(), desc['mean'], desc['std'])"
   ]
  },
  {
   "cell_type": "code",
   "execution_count": 48,
   "id": "a0a42790",
   "metadata": {},
   "outputs": [
    {
     "name": "stdout",
     "output_type": "stream",
     "text": [
      "excess left tail events: 33.1957129054285\n",
      "excess right tail events: 16.195712905428497\n"
     ]
    }
   ],
   "source": [
    "desc = ndx_2010_and_after['log_return'].describe()\n",
    "examine_tail_events(ndx_2010_and_after['log_return'].to_list(), desc['mean'], desc['std'])"
   ]
  },
  {
   "cell_type": "code",
   "execution_count": 49,
   "id": "4b2d82c8",
   "metadata": {},
   "outputs": [
    {
     "name": "stdout",
     "output_type": "stream",
     "text": [
      "excess left tail events: 28.195712905428497\n",
      "excess right tail events: 17.195712905428497\n"
     ]
    }
   ],
   "source": [
    "desc = spx_2010_and_after['return'].describe()\n",
    "examine_tail_events(spx_2010_and_after['return'].to_list(), desc['mean'], desc['std'])"
   ]
  },
  {
   "cell_type": "code",
   "execution_count": 50,
   "id": "0fe96eaf",
   "metadata": {},
   "outputs": [
    {
     "name": "stdout",
     "output_type": "stream",
     "text": [
      "excess left tail events: 31.195712905428497\n",
      "excess right tail events: 15.195712905428497\n"
     ]
    }
   ],
   "source": [
    "desc = spx_2010_and_after['log_return'].describe()\n",
    "examine_tail_events(spx_2010_and_after['log_return'].to_list(), desc['mean'], desc['std'])"
   ]
  },
  {
   "cell_type": "markdown",
   "id": "df633a11",
   "metadata": {},
   "source": [
    "Below, we examine plus/minus 4 sigma counts vs expected"
   ]
  },
  {
   "cell_type": "code",
   "execution_count": 55,
   "id": "97330803",
   "metadata": {},
   "outputs": [
    {
     "name": "stdout",
     "output_type": "stream",
     "text": [
      "excess left tail events: 6.887282050315926\n",
      "excess right tail events: 8.887282050315926\n"
     ]
    }
   ],
   "source": [
    "desc = ndx_2010_and_after['return'].describe()\n",
    "examine_tail_events(ndx_2010_and_after['return'].to_list(), desc['mean'], desc['std'])"
   ]
  },
  {
   "cell_type": "code",
   "execution_count": 54,
   "id": "93fcf364",
   "metadata": {},
   "outputs": [
    {
     "name": "stdout",
     "output_type": "stream",
     "text": [
      "excess left tail events: 8.887282050315926\n",
      "excess right tail events: 7.887282050315926\n"
     ]
    }
   ],
   "source": [
    "desc = ndx_2010_and_after['log_return'].describe()\n",
    "examine_tail_events(ndx_2010_and_after['log_return'].to_list(), desc['mean'], desc['std'])"
   ]
  },
  {
   "cell_type": "code",
   "execution_count": 53,
   "id": "595cb3b2",
   "metadata": {},
   "outputs": [
    {
     "name": "stdout",
     "output_type": "stream",
     "text": [
      "excess left tail events: 12.887282050315926\n",
      "excess right tail events: 11.887282050315926\n"
     ]
    }
   ],
   "source": [
    "desc = spx_2010_and_after['return'].describe()\n",
    "examine_tail_events(spx_2010_and_after['return'].to_list(), desc['mean'], desc['std'])"
   ]
  },
  {
   "cell_type": "code",
   "execution_count": 52,
   "id": "1eaec945",
   "metadata": {},
   "outputs": [
    {
     "name": "stdout",
     "output_type": "stream",
     "text": [
      "excess left tail events: 14.887282050315926\n",
      "excess right tail events: 11.887282050315926\n"
     ]
    }
   ],
   "source": [
    "desc = spx_2010_and_after['log_return'].describe()\n",
    "examine_tail_events(spx_2010_and_after['log_return'].to_list(), desc['mean'], desc['std'])"
   ]
  },
  {
   "cell_type": "markdown",
   "id": "d1b530f0",
   "metadata": {},
   "source": [
    "Below, we examine plus/minus 5 sigma event counts vs expected "
   ]
  },
  {
   "cell_type": "code",
   "execution_count": 57,
   "id": "555063e2",
   "metadata": {},
   "outputs": [
    {
     "name": "stdout",
     "output_type": "stream",
     "text": [
      "excess left tail events: 3.998979807055682\n",
      "excess right tail events: 4.998979807055682\n"
     ]
    }
   ],
   "source": [
    "desc = ndx_2010_and_after['return'].describe()\n",
    "examine_tail_events(ndx_2010_and_after['return'].to_list(), desc['mean'], desc['std'])"
   ]
  },
  {
   "cell_type": "code",
   "execution_count": 58,
   "id": "f92a8016",
   "metadata": {},
   "outputs": [
    {
     "name": "stdout",
     "output_type": "stream",
     "text": [
      "excess left tail events: 3.998979807055682\n",
      "excess right tail events: 4.998979807055682\n"
     ]
    }
   ],
   "source": [
    "desc = ndx_2010_and_after['log_return'].describe()\n",
    "examine_tail_events(ndx_2010_and_after['log_return'].to_list(), desc['mean'], desc['std'])"
   ]
  },
  {
   "cell_type": "code",
   "execution_count": 59,
   "id": "95bf44fa",
   "metadata": {},
   "outputs": [
    {
     "name": "stdout",
     "output_type": "stream",
     "text": [
      "excess left tail events: 5.998979807055682\n",
      "excess right tail events: 5.998979807055682\n"
     ]
    }
   ],
   "source": [
    "desc = spx_2010_and_after['return'].describe()\n",
    "examine_tail_events(spx_2010_and_after['return'].to_list(), desc['mean'], desc['std'])"
   ]
  },
  {
   "cell_type": "code",
   "execution_count": 60,
   "id": "13f8b052",
   "metadata": {},
   "outputs": [
    {
     "name": "stdout",
     "output_type": "stream",
     "text": [
      "excess left tail events: 5.998979807055682\n",
      "excess right tail events: 5.998979807055682\n"
     ]
    }
   ],
   "source": [
    "desc = spx_2010_and_after['log_return'].describe()\n",
    "examine_tail_events(spx_2010_and_after['log_return'].to_list(), desc['mean'], desc['std'])"
   ]
  },
  {
   "cell_type": "markdown",
   "id": "d6a24185",
   "metadata": {},
   "source": []
  }
 ],
 "metadata": {
  "kernelspec": {
   "display_name": "Python 3 (ipykernel)",
   "language": "python",
   "name": "python3"
  },
  "language_info": {
   "codemirror_mode": {
    "name": "ipython",
    "version": 3
   },
   "file_extension": ".py",
   "mimetype": "text/x-python",
   "name": "python",
   "nbconvert_exporter": "python",
   "pygments_lexer": "ipython3",
   "version": "3.10.9"
  }
 },
 "nbformat": 4,
 "nbformat_minor": 5
}
