{
 "cells": [
  {
   "cell_type": "code",
   "execution_count": 1,
   "id": "6d8a36ee",
   "metadata": {},
   "outputs": [
    {
     "name": "stdout",
     "output_type": "stream",
     "text": [
      "Requirement already satisfied: pymysql in /Users/irfanjamil/anaconda3/lib/python3.10/site-packages (1.0.2)\n",
      "Note: you may need to restart the kernel to use updated packages.\n"
     ]
    }
   ],
   "source": [
    "pip install pymysql"
   ]
  },
  {
   "cell_type": "code",
   "execution_count": 3,
   "id": "91461d7a",
   "metadata": {},
   "outputs": [],
   "source": [
    "import numpy as np\n",
    "import pymysql\n",
    "import pandas as pd\n",
    "from datetime import datetime, timedelta, date\n",
    "import ast"
   ]
  },
  {
   "cell_type": "code",
   "execution_count": 4,
   "id": "41cd667c",
   "metadata": {},
   "outputs": [
    {
     "name": "stderr",
     "output_type": "stream",
     "text": [
      "/Users/irfanjamil/anaconda3/lib/python3.10/site-packages/yfinance/base.py:48: FutureWarning: The default dtype for empty Series will be 'object' instead of 'float64' in a future version. Specify a dtype explicitly to silence this warning.\n",
      "  _empty_series = pd.Series()\n"
     ]
    }
   ],
   "source": [
    "from helpers import *"
   ]
  },
  {
   "cell_type": "code",
   "execution_count": 5,
   "id": "1a18957d",
   "metadata": {},
   "outputs": [],
   "source": [
    "cursor = get_cursor()"
   ]
  },
  {
   "cell_type": "code",
   "execution_count": 6,
   "id": "c563c4ef",
   "metadata": {},
   "outputs": [],
   "source": [
    "from KalshiClientsBaseV2 import *"
   ]
  },
  {
   "cell_type": "code",
   "execution_count": 7,
   "id": "6173deed",
   "metadata": {},
   "outputs": [],
   "source": [
    "prod_email, prod_password = get_kalshi_creds()\n",
    "prod_api_base = \"https://trading-api.kalshi.com/trade-api/v2\" \n",
    "exchange_client = ExchangeClient(exchange_api_base=prod_api_base, email = prod_email, password = prod_password)"
   ]
  },
  {
   "cell_type": "code",
   "execution_count": null,
   "id": "9baca253",
   "metadata": {},
   "outputs": [],
   "source": [
    "spx_range_event_ticker, ndx_range_event_ticker = get_range_event_tickers(date(2024, 2, 23))\n",
    "spx_ab_event_ticker, ndx_ab_event_ticker = get_above_below_event_tickers(date(2024, 2, 23))\n",
    "\n",
    "ndx_ab_event = exchange_client.get_event(ndx_ab_event_ticker)\n",
    "spx_ab_event = exchange_client.get_event(spx_ab_event_ticker)\n",
    "ndx_range_event = exchange_client.get_event(ndx_range_event_ticker)\n",
    "spx_range_event = exchange_client.get_event(spx_range_event_ticker)\n",
    "\n",
    "ndx_ab_markets = [x['ticker'] for x in ndx_ab_event['markets']]\n",
    "ndx_val_ab_ticker_map = map_value_to_ab_ticker(ndx_ab_markets) #maps lower bound to corresponding above/beloww ticker for NASDAQ100\n",
    "spx_ab_markets = [x['ticker'] for x in spx_ab_event['markets']]\n",
    "spx_val_ab_ticker_map = map_value_to_ab_ticker(spx_ab_markets) #maps lower bound to corresponding above/below ticker for SP500\n",
    "\n",
    "ndx_range_markets = [x['ticker'] for x in ndx_range_event['markets']]\n",
    "spx_range_markets = [x['ticker'] for x in spx_range_event['markets']]\n",
    "\n",
    "ndx_range_subtitles = [(x['ticker'], x['subtitle']) for x in ndx_range_event['markets']]\n",
    "spx_range_subtitles = [(x['ticker'], x['subtitle']) for x in spx_range_event['markets']]\n",
    "\n",
    "ndx_range_ticker_to_ab_tickers = map_range_ticker_to_ab_tickers(ndx_range_subtitles, ndx_val_ab_ticker_map)\n",
    "spx_range_ticker_to_ab_tickers = map_range_ticker_to_ab_tickers(spx_range_subtitles, spx_val_ab_ticker_map)\n",
    "#{}_range_ticker_to_ab_tickers maps a range ticker to the 2 above/below tickers that can be used to replicate the payoff of the range ticker\n",
    "\n",
    "markets = ndx_range_markets + ndx_ab_markets + spx_range_markets + spx_ab_markets\n",
    "\n",
    "d = {'ticker': [], 'bid': [], 'ask': [], 'ts': []}\n",
    "for ticker in markets:\n",
    "    resp = exchange_client.get_market_history(ticker)\n",
    "    cursor = resp['cursor']\n",
    "    hist = resp['history']\n",
    "    for h in hist:\n",
    "        d['ticker'].append(ticker)\n",
    "        d['bid'].append(h['yes_bid'])\n",
    "        d['ask'].append(h['yes_ask'])\n",
    "        d['ts'].append(datetime.fromtimestamp(h['ts']))\n",
    "    while cursor is not None and len(cursor) > 0:\n",
    "        resp = exchange_client.get_market_history(ticker, cursor = cursor)\n",
    "        cursor = resp['cursor']\n",
    "        hist = resp['history']\n",
    "        for h in hist:\n",
    "            d['ticker'].append(ticker)\n",
    "            d['bid'].append(h['yes_bid'])\n",
    "            d['ask'].append(h['yes_ask'])\n",
    "            d['ts'].append(datetime.fromtimestamp(h['ts']))\n",
    "\n",
    "df = pd.DataFrame(data=d)\n",
    "\n",
    "arb_dict = {'range_ticker': [], 'fees': [], 'arb_edge': [],'per_contract_prof': [], 'ts': []}\n",
    "\n",
    "for ndx_range_ticker in ndx_range_markets:\n",
    "    try:\n",
    "        lb_ticker = ndx_range_ticker_to_ab_tickers[ndx_range_ticker][0]\n",
    "        ub_ticker = ndx_range_ticker_to_ab_tickers[ndx_range_ticker][1]\n",
    "    except:\n",
    "        continue\n",
    "    \n",
    "    rt_bid = 0\n",
    "    lb_bid = 0\n",
    "    ub_bid = 0\n",
    "    last_ts = None\n",
    "    rt_ask = 100\n",
    "    lb_ask = 100\n",
    "    ub_ask = 100\n",
    "    \n",
    "    temp_df = pd.concat([df[df['ticker']==ndx_range_ticker], df[df['ticker']==lb_ticker], df[df['ticker']==ub_ticker]], ignore_index=True)\n",
    "    temp_df = temp_df.reset_index(drop=True).sort_values(by=['ts'])\n",
    "    \n",
    "    for idx, row in temp_df.iterrows():\n",
    "        if row['ticker'] == ndx_range_ticker:\n",
    "            rt_bid = row['bid']\n",
    "            rt_ask = row['ask']\n",
    "        elif row['ticker'] == lb_ticker:\n",
    "            lb_bid = row['bid']\n",
    "            lb_ask = row['ask']\n",
    "        else:\n",
    "            ub_bid = row['bid']\n",
    "            ub_ask = row['ask']\n",
    "        last_ts = row['ts']\n",
    "        short_rt_fees = math.ceil(100 * (.035 * (rt_bid/100) * (1-rt_bid/100))) + math.ceil(100 * (.035 * (lb_ask/100) * (1-lb_ask/100))) + math.ceil(100 * (.035 * (ub_bid/100) * (1-ub_bid/100)))\n",
    "        long_rt_fees = math.ceil(100 * (.035 * (rt_ask/100) * (1-rt_ask/100))) + math.ceil(100 * (.035 * (lb_bid/100) * (1-lb_bid/100))) + math.ceil(100 * (.035 * (ub_ask/100) * (1-ub_ask/100)))\n",
    "        \n",
    "        if rt_bid > lb_ask - ub_bid + short_rt_fees:\n",
    "            arb_dict['range_ticker'].append(ndx_range_ticker)\n",
    "            arb_dict['fees'].append(short_rt_fees)\n",
    "            arb_dict['arb_edge'].append(rt_bid - lb_ask + ub_bid)\n",
    "            arb_dict['per_contract_prof'].append(rt_bid - (lb_ask - ub_bid + short_rt_fees))\n",
    "            arb_dict['ts'].append(last_ts)  \n",
    "        elif rt_ask + long_rt_fees < lb_bid - ub_ask:\n",
    "            arb_dict['range_ticker'].append(ndx_range_ticker)\n",
    "            arb_dict['fees'].append(long_rt_fees)\n",
    "            arb_dict['arb_edge'].append(lb_bid - ub_ask - rt_ask)\n",
    "            arb_dict['per_contract_prof'].append((lb_bid - ub_ask) - rt_ask - long_rt_fees)\n",
    "            arb_dict['ts'].append(last_ts)  \n",
    "\n",
    "for spx_range_ticker in spx_range_markets:\n",
    "    try:\n",
    "        lb_ticker = spx_range_ticker_to_ab_tickers[spx_range_ticker][0]\n",
    "        ub_ticker = spx_range_ticker_to_ab_tickers[spx_range_ticker][1]\n",
    "    except:\n",
    "        continue\n",
    "\n",
    "    rt_bid = 0\n",
    "    lb_bid = 0\n",
    "    ub_bid = 0\n",
    "    last_ts = None\n",
    "    rt_ask = 100\n",
    "    lb_ask = 100\n",
    "    ub_ask = 100\n",
    "    \n",
    "    temp_df = pd.concat([df[df['ticker']==spx_range_ticker], df[df['ticker']==lb_ticker], df[df['ticker']==ub_ticker]], ignore_index=True)\n",
    "    temp_df = temp_df.reset_index(drop=True).sort_values(by=['ts'])\n",
    "    \n",
    "    for idx, row in temp_df.iterrows():\n",
    "        if row['ticker'] == spx_range_ticker:\n",
    "            rt_bid = row['bid']\n",
    "            rt_ask = row['ask']\n",
    "        elif row['ticker'] == lb_ticker:\n",
    "            lb_bid = row['bid']\n",
    "            lb_ask = row['ask']\n",
    "        else:\n",
    "            ub_bid = row['bid']\n",
    "            ub_ask = row['ask']\n",
    "        last_ts = row['ts']\n",
    "        short_rt_fees = math.ceil(100 * (.035 * (rt_bid/100) * (1-rt_bid/100))) + math.ceil(100 * (.035 * (lb_ask/100) * (1-lb_ask/100))) + math.ceil(100 * (.035 * (ub_bid/100) * (1-ub_bid/100)))\n",
    "        long_rt_fees = math.ceil(100 * (.035 * (rt_ask/100) * (1-rt_ask/100))) + math.ceil(100 * (.035 * (lb_bid/100) * (1-lb_bid/100))) + math.ceil(100 * (.035 * (ub_ask/100) * (1-ub_ask/100)))\n",
    "\n",
    "        if rt_bid > lb_ask - ub_bid + short_rt_fees:\n",
    "            arb_dict['range_ticker'].append(spx_range_ticker)\n",
    "            arb_dict['fees'].append(short_rt_fees)\n",
    "            arb_dict['arb_edge'].append(rt_bid - lb_ask + ub_bid)\n",
    "            arb_dict['per_contract_prof'].append(rt_bid - (lb_ask - ub_bid + short_rt_fees))\n",
    "            arb_dict['ts'].append(last_ts)\n",
    "\n",
    "        elif rt_ask + long_rt_fees < lb_bid - ub_ask:\n",
    "            arb_dict['range_ticker'].append(spx_range_ticker)\n",
    "            arb_dict['fees'].append(long_rt_fees)\n",
    "            arb_dict['arb_edge'].append(lb_bid - ub_ask - rt_ask)\n",
    "            arb_dict['per_contract_prof'].append((lb_bid - ub_ask) - rt_ask - long_rt_fees)\n",
    "            arb_dict['ts'].append(last_ts)\n",
    "arb = pd.DataFrame(data=arb_dict)"
   ]
  },
  {
   "cell_type": "code",
   "execution_count": 47,
   "id": "fc297f88",
   "metadata": {},
   "outputs": [
    {
     "data": {
      "text/plain": [
       "267.0"
      ]
     },
     "execution_count": 47,
     "metadata": {},
     "output_type": "execute_result"
    }
   ],
   "source": [
    "arb['per_contract_prof'].describe()['mean'] * arb['per_contract_prof'].describe()['count']"
   ]
  }
 ],
 "metadata": {
  "kernelspec": {
   "display_name": "Python 3 (ipykernel)",
   "language": "python",
   "name": "python3"
  },
  "language_info": {
   "codemirror_mode": {
    "name": "ipython",
    "version": 3
   },
   "file_extension": ".py",
   "mimetype": "text/x-python",
   "name": "python",
   "nbconvert_exporter": "python",
   "pygments_lexer": "ipython3",
   "version": "3.10.9"
  }
 },
 "nbformat": 4,
 "nbformat_minor": 5
}
