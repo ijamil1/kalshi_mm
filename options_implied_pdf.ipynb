{
 "cells": [
  {
   "cell_type": "code",
   "execution_count": 1,
   "id": "e4c44e9e",
   "metadata": {},
   "outputs": [
    {
     "name": "stdout",
     "output_type": "stream",
     "text": [
      "Requirement already satisfied: yfinance in /Users/irfanjamil/anaconda3/lib/python3.10/site-packages (0.2.36)\n",
      "Requirement already satisfied: peewee>=3.16.2 in /Users/irfanjamil/anaconda3/lib/python3.10/site-packages (from yfinance) (3.17.0)\n",
      "Requirement already satisfied: frozendict>=2.3.4 in /Users/irfanjamil/anaconda3/lib/python3.10/site-packages (from yfinance) (2.4.0)\n",
      "Requirement already satisfied: numpy>=1.16.5 in /Users/irfanjamil/anaconda3/lib/python3.10/site-packages (from yfinance) (1.23.5)\n",
      "Requirement already satisfied: html5lib>=1.1 in /Users/irfanjamil/anaconda3/lib/python3.10/site-packages (from yfinance) (1.1)\n",
      "Requirement already satisfied: appdirs>=1.4.4 in /Users/irfanjamil/anaconda3/lib/python3.10/site-packages (from yfinance) (1.4.4)\n",
      "Requirement already satisfied: requests>=2.31 in /Users/irfanjamil/anaconda3/lib/python3.10/site-packages (from yfinance) (2.31.0)\n",
      "Requirement already satisfied: multitasking>=0.0.7 in /Users/irfanjamil/anaconda3/lib/python3.10/site-packages (from yfinance) (0.0.11)\n",
      "Requirement already satisfied: beautifulsoup4>=4.11.1 in /Users/irfanjamil/anaconda3/lib/python3.10/site-packages (from yfinance) (4.11.1)\n",
      "Requirement already satisfied: pandas>=1.3.0 in /Users/irfanjamil/anaconda3/lib/python3.10/site-packages (from yfinance) (1.5.3)\n",
      "Requirement already satisfied: pytz>=2022.5 in /Users/irfanjamil/anaconda3/lib/python3.10/site-packages (from yfinance) (2022.7)\n",
      "Requirement already satisfied: lxml>=4.9.1 in /Users/irfanjamil/anaconda3/lib/python3.10/site-packages (from yfinance) (4.9.1)\n",
      "Requirement already satisfied: soupsieve>1.2 in /Users/irfanjamil/anaconda3/lib/python3.10/site-packages (from beautifulsoup4>=4.11.1->yfinance) (2.3.2.post1)\n",
      "Requirement already satisfied: webencodings in /Users/irfanjamil/anaconda3/lib/python3.10/site-packages (from html5lib>=1.1->yfinance) (0.5.1)\n",
      "Requirement already satisfied: six>=1.9 in /Users/irfanjamil/anaconda3/lib/python3.10/site-packages (from html5lib>=1.1->yfinance) (1.16.0)\n",
      "Requirement already satisfied: python-dateutil>=2.8.1 in /Users/irfanjamil/anaconda3/lib/python3.10/site-packages (from pandas>=1.3.0->yfinance) (2.8.2)\n",
      "Requirement already satisfied: charset-normalizer<4,>=2 in /Users/irfanjamil/anaconda3/lib/python3.10/site-packages (from requests>=2.31->yfinance) (2.0.4)\n",
      "Requirement already satisfied: certifi>=2017.4.17 in /Users/irfanjamil/anaconda3/lib/python3.10/site-packages (from requests>=2.31->yfinance) (2023.11.17)\n",
      "Requirement already satisfied: urllib3<3,>=1.21.1 in /Users/irfanjamil/anaconda3/lib/python3.10/site-packages (from requests>=2.31->yfinance) (1.26.14)\n",
      "Requirement already satisfied: idna<4,>=2.5 in /Users/irfanjamil/anaconda3/lib/python3.10/site-packages (from requests>=2.31->yfinance) (3.4)\n",
      "Note: you may need to restart the kernel to use updated packages.\n"
     ]
    }
   ],
   "source": [
    "pip install yfinance"
   ]
  },
  {
   "cell_type": "code",
   "execution_count": 1,
   "id": "eb05e7cd",
   "metadata": {},
   "outputs": [
    {
     "name": "stderr",
     "output_type": "stream",
     "text": [
      "/Users/irfanjamil/anaconda3/lib/python3.10/site-packages/yfinance/base.py:48: FutureWarning: The default dtype for empty Series will be 'object' instead of 'float64' in a future version. Specify a dtype explicitly to silence this warning.\n",
      "  _empty_series = pd.Series()\n"
     ]
    }
   ],
   "source": [
    "from helpers import *\n",
    "import yfinance as yf\n",
    "import numpy as np\n",
    "import pandas as pd\n",
    "from matplotlib import pyplot as plt\n",
    "from datetime import date, timedelta, datetime"
   ]
  },
  {
   "cell_type": "code",
   "execution_count": 5,
   "id": "0da0a90d",
   "metadata": {},
   "outputs": [],
   "source": [
    "from options_helpers import *\n",
    "from scipy.ndimage import gaussian_filter1d\n",
    "from scipy.interpolate import CubicSpline"
   ]
  },
  {
   "cell_type": "code",
   "execution_count": 19,
   "id": "b42e68b3",
   "metadata": {},
   "outputs": [],
   "source": [
    "tomorrow = date.today() + timedelta(days=1)\n",
    "annualized_rate = .05374\n",
    "r = np.log(1+annualized_rate)\n",
    "\n",
    "spx = yf.Ticker('^SPX')\n",
    "ndx = yf.Ticker('^NDX')\n",
    "\n",
    "spx_calls = spx.option_chain(tomorrow.isoformat()).calls\n",
    "spx_puts = spx.option_chain(tomorrow.isoformat()).puts\n",
    "\n",
    "ndx_calls = ndx.option_chain(tomorrow.isoformat()).calls\n",
    "ndx_puts = ndx.option_chain(tomorrow.isoformat()).puts\n",
    "\n",
    "spx_calls['midprice'] = spx_calls.apply(lambda x: (x['bid'] + x['ask'])/2, axis=1)\n",
    "ndx_calls['midprice'] = ndx_calls.apply(lambda x: (x['bid'] + x['ask'])/2, axis=1)\n",
    "spx_puts['midprice'] = spx_puts.apply(lambda x: (x['bid'] + x['ask'])/2, axis=1)\n",
    "ndx_puts['midprice'] = ndx_puts.apply(lambda x: (x['bid'] + x['ask'])/2, axis=1)\n",
    "\n",
    "ndx_calls = ndx_calls[['strike', 'bid', 'midprice', 'ask', 'impliedVolatility', 'inTheMoney']]\n",
    "spx_calls = spx_calls[['strike', 'bid', 'midprice', 'ask', 'impliedVolatility', 'inTheMoney']]\n",
    "ndx_puts = ndx_puts[['strike', 'bid', 'midprice', 'ask', 'impliedVolatility', 'inTheMoney']]\n",
    "spx_puts = spx_puts[['strike', 'bid', 'midprice', 'ask', 'impliedVolatility', 'inTheMoney']]\n",
    "\n",
    "ndx_calls['type'] = ndx_calls.apply(lambda x: 'call', axis=1)\n",
    "ndx_puts['type'] = ndx_puts.apply(lambda x: 'put', axis=1)\n",
    "spx_calls['type'] = spx_calls.apply(lambda x: 'call', axis=1)\n",
    "spx_puts['type'] = spx_puts.apply(lambda x: 'put', axis=1)\n",
    "\n",
    "\n",
    "ndx_options = pd.concat([ndx_calls, ndx_puts], ignore_index=True)\n",
    "spx_options = pd.concat([spx_calls, spx_puts], ignore_index=True)\n",
    "\n",
    "ndx_options = ndx_options[ndx_options['midprice'].isna() == False]\n",
    "spx_options = spx_options[spx_options['midprice'].isna() == False]\n",
    "\n",
    "ndx_itm = ndx_options[ndx_options['inTheMoney']==True].sort_values(by=['strike']).reset_index(drop=True)\n",
    "ndx_otm = ndx_options[ndx_options['inTheMoney']==False].sort_values(by=['strike']).reset_index(drop=True)\n",
    "\n",
    "spx_itm = spx_options[spx_options['inTheMoney']==True].sort_values(by=['strike']).reset_index(drop=True)\n",
    "spx_otm = spx_options[spx_options['inTheMoney']==False].sort_values(by=['strike']).reset_index(drop=True)"
   ]
  },
  {
   "cell_type": "code",
   "execution_count": 20,
   "id": "58f7d004",
   "metadata": {},
   "outputs": [],
   "source": [
    "cur_ndx_val = float(yf.Ticker('^NDX').history(period='1m').tail()['Close'])\n",
    "cur_spx_val = float(yf.Ticker('^SPX').history(period='1m').tail()['Close'])"
   ]
  },
  {
   "cell_type": "code",
   "execution_count": 44,
   "id": "c333adfb",
   "metadata": {},
   "outputs": [
    {
     "data": {
      "text/html": [
       "<div>\n",
       "<style scoped>\n",
       "    .dataframe tbody tr th:only-of-type {\n",
       "        vertical-align: middle;\n",
       "    }\n",
       "\n",
       "    .dataframe tbody tr th {\n",
       "        vertical-align: top;\n",
       "    }\n",
       "\n",
       "    .dataframe thead th {\n",
       "        text-align: right;\n",
       "    }\n",
       "</style>\n",
       "<table border=\"1\" class=\"dataframe\">\n",
       "  <thead>\n",
       "    <tr style=\"text-align: right;\">\n",
       "      <th></th>\n",
       "      <th>strike</th>\n",
       "      <th>bid</th>\n",
       "      <th>midprice</th>\n",
       "      <th>ask</th>\n",
       "      <th>impliedVolatility</th>\n",
       "      <th>inTheMoney</th>\n",
       "      <th>type</th>\n",
       "    </tr>\n",
       "  </thead>\n",
       "  <tbody>\n",
       "    <tr>\n",
       "      <th>96</th>\n",
       "      <td>4905.0</td>\n",
       "      <td>254.3</td>\n",
       "      <td>255.75</td>\n",
       "      <td>257.2</td>\n",
       "      <td>0.413672</td>\n",
       "      <td>True</td>\n",
       "      <td>call</td>\n",
       "    </tr>\n",
       "    <tr>\n",
       "      <th>97</th>\n",
       "      <td>4910.0</td>\n",
       "      <td>249.1</td>\n",
       "      <td>250.55</td>\n",
       "      <td>252.0</td>\n",
       "      <td>0.401678</td>\n",
       "      <td>True</td>\n",
       "      <td>call</td>\n",
       "    </tr>\n",
       "    <tr>\n",
       "      <th>98</th>\n",
       "      <td>4915.0</td>\n",
       "      <td>243.1</td>\n",
       "      <td>244.60</td>\n",
       "      <td>246.1</td>\n",
       "      <td>0.368720</td>\n",
       "      <td>True</td>\n",
       "      <td>call</td>\n",
       "    </tr>\n",
       "    <tr>\n",
       "      <th>99</th>\n",
       "      <td>4920.0</td>\n",
       "      <td>238.2</td>\n",
       "      <td>239.65</td>\n",
       "      <td>241.1</td>\n",
       "      <td>0.362372</td>\n",
       "      <td>True</td>\n",
       "      <td>call</td>\n",
       "    </tr>\n",
       "    <tr>\n",
       "      <th>100</th>\n",
       "      <td>4925.0</td>\n",
       "      <td>233.1</td>\n",
       "      <td>234.70</td>\n",
       "      <td>236.3</td>\n",
       "      <td>0.362189</td>\n",
       "      <td>True</td>\n",
       "      <td>call</td>\n",
       "    </tr>\n",
       "    <tr>\n",
       "      <th>...</th>\n",
       "      <td>...</td>\n",
       "      <td>...</td>\n",
       "      <td>...</td>\n",
       "      <td>...</td>\n",
       "      <td>...</td>\n",
       "      <td>...</td>\n",
       "      <td>...</td>\n",
       "    </tr>\n",
       "    <tr>\n",
       "      <th>169</th>\n",
       "      <td>5275.0</td>\n",
       "      <td>114.0</td>\n",
       "      <td>115.45</td>\n",
       "      <td>116.9</td>\n",
       "      <td>0.166634</td>\n",
       "      <td>True</td>\n",
       "      <td>put</td>\n",
       "    </tr>\n",
       "    <tr>\n",
       "      <th>170</th>\n",
       "      <td>5290.0</td>\n",
       "      <td>127.3</td>\n",
       "      <td>128.80</td>\n",
       "      <td>130.3</td>\n",
       "      <td>0.000010</td>\n",
       "      <td>True</td>\n",
       "      <td>put</td>\n",
       "    </tr>\n",
       "    <tr>\n",
       "      <th>171</th>\n",
       "      <td>5325.0</td>\n",
       "      <td>163.8</td>\n",
       "      <td>165.40</td>\n",
       "      <td>167.0</td>\n",
       "      <td>0.226997</td>\n",
       "      <td>True</td>\n",
       "      <td>put</td>\n",
       "    </tr>\n",
       "    <tr>\n",
       "      <th>172</th>\n",
       "      <td>5330.0</td>\n",
       "      <td>169.0</td>\n",
       "      <td>170.55</td>\n",
       "      <td>172.1</td>\n",
       "      <td>0.236336</td>\n",
       "      <td>True</td>\n",
       "      <td>put</td>\n",
       "    </tr>\n",
       "    <tr>\n",
       "      <th>173</th>\n",
       "      <td>5350.0</td>\n",
       "      <td>188.0</td>\n",
       "      <td>189.55</td>\n",
       "      <td>191.1</td>\n",
       "      <td>0.189950</td>\n",
       "      <td>True</td>\n",
       "      <td>put</td>\n",
       "    </tr>\n",
       "  </tbody>\n",
       "</table>\n",
       "<p>78 rows × 7 columns</p>\n",
       "</div>"
      ],
      "text/plain": [
       "     strike    bid  midprice    ask  impliedVolatility  inTheMoney  type\n",
       "96   4905.0  254.3    255.75  257.2           0.413672        True  call\n",
       "97   4910.0  249.1    250.55  252.0           0.401678        True  call\n",
       "98   4915.0  243.1    244.60  246.1           0.368720        True  call\n",
       "99   4920.0  238.2    239.65  241.1           0.362372        True  call\n",
       "100  4925.0  233.1    234.70  236.3           0.362189        True  call\n",
       "..      ...    ...       ...    ...                ...         ...   ...\n",
       "169  5275.0  114.0    115.45  116.9           0.166634        True   put\n",
       "170  5290.0  127.3    128.80  130.3           0.000010        True   put\n",
       "171  5325.0  163.8    165.40  167.0           0.226997        True   put\n",
       "172  5330.0  169.0    170.55  172.1           0.236336        True   put\n",
       "173  5350.0  188.0    189.55  191.1           0.189950        True   put\n",
       "\n",
       "[78 rows x 7 columns]"
      ]
     },
     "execution_count": 44,
     "metadata": {},
     "output_type": "execute_result"
    }
   ],
   "source": [
    "spx_itm[(spx_itm['strike']>cur_spx_val*0.95) & (spx_itm['strike']<cur_spx_val*1.05)]"
   ]
  },
  {
   "cell_type": "code",
   "execution_count": 54,
   "id": "3bfb25e8",
   "metadata": {},
   "outputs": [],
   "source": [
    "threshold = .05\n",
    "\n",
    "spx_itm_temp = spx_itm[(spx_itm['strike']>cur_spx_val*(1-threshold)) & (spx_itm['strike']<cur_spx_val*(1+threshold))].reset_index(drop=True)\n",
    "spx_dist_dict = {}\n",
    "for idx, row in spx_itm_temp.iterrows():\n",
    "    if idx == 0 or idx == spx_itm_temp.shape[0]-1:\n",
    "        continue\n",
    "    prev_strike = float(spx_itm_temp.iloc[idx-1]['strike'])\n",
    "    cur_strike = row['strike']\n",
    "    next_strike = float(spx_itm_temp.iloc[idx+1]['strike'])\n",
    "    \n",
    "    if next_strike - cur_strike == cur_strike - prev_strike:\n",
    "        cost = float(spx_itm_temp.iloc[idx-1]['midprice']) + float(spx_itm_temp.iloc[idx+1]['midprice']) - 2 * row['midprice']\n",
    "        prof = cur_strike - prev_strike\n",
    "        p = cost/prof\n",
    "    else:\n",
    "        p/=2\n",
    "    spx_dist_dict[cur_strike] = max(0,p)\n",
    "\n",
    "spx_probs_smoothed = gaussian_filter1d(list(spx_dist_dict.values()), 3)\n",
    "i = 0\n",
    "for k, v in spx_dist_dict.items():\n",
    "    spx_dist_dict[k] = spx_probs_smoothed[i]/sum(spx_probs_smoothed)\n",
    "    i+=1\n",
    "\n",
    "\n",
    "ndx_itm_temp = ndx_itm[(ndx_itm['strike']>cur_ndx_val*(1-threshold)) & (ndx_itm['strike']<cur_ndx_val*(1+threshold))].reset_index(drop=True)\n",
    "ndx_dist_dict = {}\n",
    "for idx, row in ndx_itm_temp.iterrows():\n",
    "    if idx == 0 or idx == ndx_itm_temp.shape[0]-1:\n",
    "        continue\n",
    "    prev_strike = float(ndx_itm_temp.iloc[idx-1]['strike'])\n",
    "    cur_strike = row['strike']\n",
    "    next_strike = float(ndx_itm_temp.iloc[idx+1]['strike'])\n",
    "    \n",
    "    if next_strike - cur_strike == cur_strike - prev_strike:\n",
    "        cost = float(ndx_itm_temp.iloc[idx-1]['midprice']) + float(ndx_itm_temp.iloc[idx+1]['midprice']) - 2 * row['midprice']\n",
    "        prof = cur_strike - prev_strike\n",
    "        p = cost/prof\n",
    "    else:\n",
    "        p/=2\n",
    "    ndx_dist_dict[cur_strike] = max(0,p)\n",
    "    \n",
    "ndx_probs_smoothed = gaussian_filter1d(list(ndx_dist_dict.values()), 3)\n",
    "i = 0\n",
    "for k, v in ndx_dist_dict.items():\n",
    "    ndx_dist_dict[k] = ndx_probs_smoothed[i]/sum(ndx_probs_smoothed)\n",
    "    i+=1\n",
    "\n",
    "        "
   ]
  },
  {
   "cell_type": "code",
   "execution_count": 57,
   "id": "8b8dba79",
   "metadata": {},
   "outputs": [
    {
     "data": {
      "text/plain": [
       "Text(0.5, 1.0, 'SPX ITM implied pdf')"
      ]
     },
     "execution_count": 57,
     "metadata": {},
     "output_type": "execute_result"
    },
    {
     "data": {
      "image/png": "[encoded data removed]",
      "text/plain": [
       "<Figure size 640x480 with 1 Axes>"
      ]
     },
     "metadata": {},
     "output_type": "display_data"
    }
   ],
   "source": [
    "plt.scatter(spx_dist_dict.keys(), spx_dist_dict.values())\n",
    "plt.title('SPX ITM implied pdf')"
   ]
  },
  {
   "cell_type": "code",
   "execution_count": 60,
   "id": "c16e8be7",
   "metadata": {},
   "outputs": [
    {
     "name": "stdout",
     "output_type": "stream",
     "text": [
      "0.11474651923495893\n"
     ]
    }
   ],
   "source": [
    "#P(SPX > 250 eod tommorrow?)\n",
    "tups = [(sp, prob) for sp, prob in spx_dist_dict.items()]\n",
    "tups.sort(key=lambda x:x[0])\n",
    "cumsum = 0\n",
    "for x in tups:\n",
    "    if x[0] < 5160:\n",
    "        cumsum+=x[1]\n",
    "    else:\n",
    "        print(cumsum)\n",
    "        break"
   ]
  },
  {
   "cell_type": "code",
   "execution_count": 58,
   "id": "80e3a7b5",
   "metadata": {},
   "outputs": [
    {
     "data": {
      "text/plain": [
       "Text(0.5, 1.0, 'NDX ITM implied pdf')"
      ]
     },
     "execution_count": 58,
     "metadata": {},
     "output_type": "execute_result"
    },
    {
     "data": {
      "image/png": "[encoded data removed]",
      "text/plain": [
       "<Figure size 640x480 with 1 Axes>"
      ]
     },
     "metadata": {},
     "output_type": "display_data"
    }
   ],
   "source": [
    "plt.scatter(ndx_dist_dict.keys(), ndx_dist_dict.values())\n",
    "plt.title('NDX ITM implied pdf')"
   ]
  },
  {
   "cell_type": "code",
   "execution_count": 61,
   "id": "a800c5e0",
   "metadata": {},
   "outputs": [],
   "source": [
    "threshold = .025\n",
    "\n",
    "spx_otm_temp = spx_otm[(spx_otm['strike']>cur_spx_val*(1-threshold)) & (spx_otm['strike']<cur_spx_val*(1+threshold))].reset_index(drop=True)\n",
    "spx_dist_dict = {}\n",
    "for idx, row in spx_otm_temp.iterrows():\n",
    "    if idx == 0 or idx == spx_otm_temp.shape[0]-1:\n",
    "        continue\n",
    "    prev_strike = float(spx_otm_temp.iloc[idx-1]['strike'])\n",
    "    cur_strike = row['strike']\n",
    "    next_strike = float(spx_otm_temp.iloc[idx+1]['strike'])\n",
    "    \n",
    "    if next_strike - cur_strike == cur_strike - prev_strike:\n",
    "        cost = float(spx_otm_temp.iloc[idx-1]['midprice']) + float(spx_otm_temp.iloc[idx+1]['midprice']) - 2 * row['midprice']\n",
    "        prof = cur_strike - prev_strike\n",
    "        p = cost/prof\n",
    "    else:\n",
    "        p/=2\n",
    "    spx_dist_dict[cur_strike] = max(0,p)\n",
    "\n",
    "spx_probs_smoothed = gaussian_filter1d(list(spx_dist_dict.values()), 3)\n",
    "i = 0\n",
    "for k, v in spx_dist_dict.items():\n",
    "    spx_dist_dict[k] = spx_probs_smoothed[i]/sum(spx_probs_smoothed)\n",
    "    i+=1\n",
    "\n",
    "\n",
    "ndx_otm_temp = ndx_otm[(ndx_otm['strike']>cur_ndx_val*(1-threshold)) & (ndx_otm['strike']<cur_ndx_val*(1+threshold))].reset_index(drop=True)\n",
    "ndx_dist_dict = {}\n",
    "for idx, row in ndx_otm_temp.iterrows():\n",
    "    if idx == 0 or idx == ndx_otm_temp.shape[0]-1:\n",
    "        continue\n",
    "    prev_strike = float(ndx_otm_temp.iloc[idx-1]['strike'])\n",
    "    cur_strike = row['strike']\n",
    "    next_strike = float(ndx_otm_temp.iloc[idx+1]['strike'])\n",
    "    \n",
    "    if next_strike - cur_strike == cur_strike - prev_strike:\n",
    "        cost = float(ndx_otm_temp.iloc[idx-1]['midprice']) + float(ndx_otm_temp.iloc[idx+1]['midprice']) - 2 * row['midprice']\n",
    "        prof = cur_strike - prev_strike\n",
    "        p = cost/prof\n",
    "    else:\n",
    "        p/=2\n",
    "    ndx_dist_dict[cur_strike] = max(0,p)\n",
    "    \n",
    "ndx_probs_smoothed = gaussian_filter1d(list(ndx_dist_dict.values()), 3)\n",
    "i = 0\n",
    "for k, v in ndx_dist_dict.items():\n",
    "    ndx_dist_dict[k] = ndx_probs_smoothed[i]/sum(ndx_probs_smoothed)\n",
    "    i+=1\n",
    "\n",
    "        "
   ]
  },
  {
   "cell_type": "code",
   "execution_count": 62,
   "id": "afabb0a3",
   "metadata": {},
   "outputs": [
    {
     "data": {
      "text/plain": [
       "Text(0.5, 1.0, 'SPX OTM implied pdf')"
      ]
     },
     "execution_count": 62,
     "metadata": {},
     "output_type": "execute_result"
    },
    {
     "data": {
      "image/png": "[encoded data removed]",
      "text/plain": [
       "<Figure size 640x480 with 1 Axes>"
      ]
     },
     "metadata": {},
     "output_type": "display_data"
    }
   ],
   "source": [
    "plt.scatter(spx_dist_dict.keys(), spx_dist_dict.values())\n",
    "plt.title('SPX OTM implied pdf')"
   ]
  },
  {
   "cell_type": "code",
   "execution_count": 69,
   "id": "55d8d256",
   "metadata": {},
   "outputs": [
    {
     "name": "stdout",
     "output_type": "stream",
     "text": [
      "0.22462479258196472\n"
     ]
    }
   ],
   "source": [
    "#P(SPX > 5250 eod tommorrow?)\n",
    "tups = [(sp, prob) for sp, prob in spx_dist_dict.items()]\n",
    "tups.sort(key=lambda x:x[0])\n",
    "cumsum = 0\n",
    "for x in tups:\n",
    "    if x[0] < 5125:\n",
    "        cumsum+=x[1]\n",
    "    else:\n",
    "        print(cumsum)\n",
    "        break"
   ]
  },
  {
   "cell_type": "code",
   "execution_count": 63,
   "id": "4feac62a",
   "metadata": {},
   "outputs": [
    {
     "data": {
      "text/plain": [
       "Text(0.5, 1.0, 'NDX OTM implied pdf')"
      ]
     },
     "execution_count": 63,
     "metadata": {},
     "output_type": "execute_result"
    },
    {
     "data": {
      "image/png": "[encoded data removed]",
      "text/plain": [
       "<Figure size 640x480 with 1 Axes>"
      ]
     },
     "metadata": {},
     "output_type": "display_data"
    }
   ],
   "source": [
    "plt.scatter(ndx_dist_dict.keys(), ndx_dist_dict.values())\n",
    "plt.title('NDX OTM implied pdf')"
   ]
  }
 ],
 "metadata": {
  "kernelspec": {
   "display_name": "Python 3 (ipykernel)",
   "language": "python",
   "name": "python3"
  },
  "language_info": {
   "codemirror_mode": {
    "name": "ipython",
    "version": 3
   },
   "file_extension": ".py",
   "mimetype": "text/x-python",
   "name": "python",
   "nbconvert_exporter": "python",
   "pygments_lexer": "ipython3",
   "version": "3.10.9"
  }
 },
 "nbformat": 4,
 "nbformat_minor": 5
}
